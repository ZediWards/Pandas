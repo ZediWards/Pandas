{
 "cells": [
  {
   "cell_type": "code",
   "execution_count": 240,
   "metadata": {},
   "outputs": [],
   "source": [
    "import numpy as np\n",
    "import pandas as pd\n",
    "pd.set_option('display.max_row', None)\n",
    "pd.set_option('display.max_column', None)\n",
    "# pd.options.display.max_rows = 20\n",
    "# pd.options.display.max_columns = 20\n",
    "pd.options.display.max_colwidth = 80\n",
    "np.set_printoptions(precision=4, suppress=True)"
   ]
  },
  {
   "cell_type": "code",
   "execution_count": 241,
   "metadata": {},
   "outputs": [],
   "source": [
    "# Python community naming conventions\n",
    "\n",
    "# import numpy as np\n",
    "# import matplotlib.pyplot as plt\n",
    "# import pandas as pd\n",
    "# import seaborn as sns\n",
    "# import statsmodels as sm"
   ]
  },
  {
   "cell_type": "code",
   "execution_count": 320,
   "metadata": {},
   "outputs": [],
   "source": [
    "# # filtering a dataframe\n",
    "\n",
    "# # 1. the \"shell\"\n",
    "# df[]\n",
    "\n",
    "# # 2. the condition\n",
    "# df['column_name'] > 1\n",
    "\n",
    "# # 3. combine them\n",
    "# df[df['column_name'] > 1]\n",
    "\n",
    "# # multiple conditons get wrapped in ()\n",
    "\n",
    "# df[(df['column_name'] > 1) & (df['column_name'] < 20)]"
   ]
  },
  {
   "cell_type": "code",
   "execution_count": 319,
   "metadata": {},
   "outputs": [],
   "source": [
    "# axis=1 is rows\n",
    "# axis=0 is columns"
   ]
  },
  {
   "cell_type": "markdown",
   "metadata": {},
   "source": [
    "## Creating Dateframes "
   ]
  },
  {
   "cell_type": "code",
   "execution_count": 287,
   "metadata": {},
   "outputs": [
    {
     "data": {
      "text/html": [
       "<div>\n",
       "<style scoped>\n",
       "    .dataframe tbody tr th:only-of-type {\n",
       "        vertical-align: middle;\n",
       "    }\n",
       "\n",
       "    .dataframe tbody tr th {\n",
       "        vertical-align: top;\n",
       "    }\n",
       "\n",
       "    .dataframe thead th {\n",
       "        text-align: right;\n",
       "    }\n",
       "</style>\n",
       "<table border=\"1\" class=\"dataframe\">\n",
       "  <thead>\n",
       "    <tr style=\"text-align: right;\">\n",
       "      <th></th>\n",
       "      <th>Ohio</th>\n",
       "      <th>Nevada</th>\n",
       "    </tr>\n",
       "  </thead>\n",
       "  <tbody>\n",
       "    <tr>\n",
       "      <th>1873</th>\n",
       "      <td>NaN</td>\n",
       "      <td>NaN</td>\n",
       "    </tr>\n",
       "    <tr>\n",
       "      <th>1874</th>\n",
       "      <td>NaN</td>\n",
       "      <td>NaN</td>\n",
       "    </tr>\n",
       "    <tr>\n",
       "      <th>1875</th>\n",
       "      <td>NaN</td>\n",
       "      <td>NaN</td>\n",
       "    </tr>\n",
       "  </tbody>\n",
       "</table>\n",
       "</div>"
      ],
      "text/plain": [
       "      Ohio  Nevada\n",
       "1873   NaN     NaN\n",
       "1874   NaN     NaN\n",
       "1875   NaN     NaN"
      ]
     },
     "execution_count": 287,
     "metadata": {},
     "output_type": "execute_result"
    }
   ],
   "source": [
    "# # syntax  pandas.DataFrame(data, index, columns) - no name att like Series\n",
    "\n",
    "# # ****************************** empty dataframe\n",
    "df = pd.DataFrame()\n",
    "\n",
    "# #  **************************** dictionary of equal length ndArrays/lists\n",
    "data = {\"state\": [\"Ohio\", \"Ohio\", \"Ohio\", \"Nevada\", \"Nevada\", \"Nevada\"],\n",
    "        \"year\": [2000, 2001, 2002, 2001, 2002, 2003],\n",
    "        \"pop\": [1.5, 1.7, 3.6, 2.4, 2.9, 3.2]}\n",
    "\n",
    "# # custom index too\n",
    "df = pd.DataFrame(data, index=['a', 'b', 'c', 'd', 'e', 'f'])\n",
    "df\n",
    "\n",
    "\n",
    "# # passing in the dictionary of lists and arranging the columns\n",
    "# pd.DataFrame(data, columns=['state', 'pop', 'year'])\n",
    "\n",
    "\n",
    "# # ******************************** nested dictionary of dictionaries \n",
    "# # (outer keys = columns, inner keys = row indices)\n",
    "populations = {\"Ohio\": {2000: 1.5, 2001: 1.7, 2002: 3.6}, \"Nevada\": {2001: 2.4, 2002: 2.9}}\n",
    "nested_dics_df = pd.DataFrame(populations)\n",
    "\n",
    "# override inner keys with setting index\n",
    "nested_dics_df= pd.DataFrame(populations, index=[1873, 1874, 1875])\n",
    "nested_dics_df\n",
    "\n",
    "\n",
    "# # ****************************** dictionary of Series\n",
    "# data = {'state': pd.Series([\"Ohio\", \"Ohio\", \"Ohio\", \"Nevada\", \"Nevada\", \"Nevada\"]),\n",
    "#         'year': pd.Series([2000, 2001, 2002, 2001, 2002, 2003]),\n",
    "#         'population': pd.Series([1.5, 1.7, 3.6, 2.4, 2.9, 3.2])}\n",
    "\n",
    "# df = pd.DataFrame(data)\n",
    "# df\n",
    "\n",
    "# # ********* can also be series (or slice of series) from a dataframe\n",
    "# # using first 4 rows of states and last 4 rows of year and pop series\n",
    "# data = {'state': df['state'][:4],\n",
    "#         'year': df['year'][-4 :],\n",
    "#         'population': df['pop'][-4 :]\n",
    "#         }\n",
    "\n",
    "\n",
    "# # ****************************** dictionary of ndArray/Lists\n",
    "# data = {'state': [\"Ohio\", \"Ohio\", \"Ohio\", \"Nevada\", \"Nevada\", \"Nevada\"],\n",
    "#         'year': [2000, 2001, 2002, 2001, 2002, 2003],\n",
    "#         'population': [1.5, 1.7, 3.6, 2.4, 2.9, 3.2]}\n",
    "\n",
    "# df = pd.DataFrame(data)\n",
    "# df\n",
    "\n",
    "\n",
    "# # ****************************** lists of lists\n",
    "# data = [['Bob', '10'], ['Sue', 20], ['Steve', 30]]\n",
    "# df = pd.DataFrame(data, columns=['Name', 'number'])\n",
    "# df"
   ]
  },
  {
   "cell_type": "markdown",
   "metadata": {},
   "source": [
    "Methods used to get info about df"
   ]
  },
  {
   "cell_type": "code",
   "execution_count": 318,
   "metadata": {},
   "outputs": [
    {
     "name": "stdout",
     "output_type": "stream",
     "text": [
      "<class 'pandas.core.frame.DataFrame'>\n",
      "Index: 6 entries, a to f\n",
      "Data columns (total 5 columns):\n",
      " #   Column     Non-Null Count  Dtype  \n",
      "---  ------     --------------  -----  \n",
      " 0   state      6 non-null      object \n",
      " 1   year       6 non-null      int64  \n",
      " 2   pop        6 non-null      float64\n",
      " 3   lamda_col  6 non-null      object \n",
      " 4   new_col    6 non-null      bool   \n",
      "dtypes: bool(1), float64(1), int64(1), object(2)\n",
      "memory usage: 418.0+ bytes\n"
     ]
    },
    {
     "data": {
      "text/html": [
       "<div>\n",
       "<style scoped>\n",
       "    .dataframe tbody tr th:only-of-type {\n",
       "        vertical-align: middle;\n",
       "    }\n",
       "\n",
       "    .dataframe tbody tr th {\n",
       "        vertical-align: top;\n",
       "    }\n",
       "\n",
       "    .dataframe thead th {\n",
       "        text-align: right;\n",
       "    }\n",
       "</style>\n",
       "<table border=\"1\" class=\"dataframe\">\n",
       "  <thead>\n",
       "    <tr style=\"text-align: right;\">\n",
       "      <th></th>\n",
       "      <th>state</th>\n",
       "      <th>year</th>\n",
       "      <th>pop</th>\n",
       "      <th>lamda_col</th>\n",
       "      <th>new_col</th>\n",
       "      <th>date_range_col</th>\n",
       "    </tr>\n",
       "  </thead>\n",
       "  <tbody>\n",
       "    <tr>\n",
       "      <th>a</th>\n",
       "      <td>Ohio</td>\n",
       "      <td>2000</td>\n",
       "      <td>1.5</td>\n",
       "      <td>East</td>\n",
       "      <td>True</td>\n",
       "      <td>2013-01-01</td>\n",
       "    </tr>\n",
       "    <tr>\n",
       "      <th>b</th>\n",
       "      <td>Ohio</td>\n",
       "      <td>2001</td>\n",
       "      <td>1.7</td>\n",
       "      <td>East</td>\n",
       "      <td>True</td>\n",
       "      <td>2013-01-02</td>\n",
       "    </tr>\n",
       "    <tr>\n",
       "      <th>c</th>\n",
       "      <td>Ohio</td>\n",
       "      <td>2002</td>\n",
       "      <td>3.6</td>\n",
       "      <td>East</td>\n",
       "      <td>True</td>\n",
       "      <td>2013-01-03</td>\n",
       "    </tr>\n",
       "    <tr>\n",
       "      <th>d</th>\n",
       "      <td>Nevada</td>\n",
       "      <td>2001</td>\n",
       "      <td>2.4</td>\n",
       "      <td>West</td>\n",
       "      <td>False</td>\n",
       "      <td>2013-01-04</td>\n",
       "    </tr>\n",
       "    <tr>\n",
       "      <th>e</th>\n",
       "      <td>Nevada</td>\n",
       "      <td>2002</td>\n",
       "      <td>2.9</td>\n",
       "      <td>West</td>\n",
       "      <td>False</td>\n",
       "      <td>2013-01-05</td>\n",
       "    </tr>\n",
       "    <tr>\n",
       "      <th>f</th>\n",
       "      <td>Nevada</td>\n",
       "      <td>2003</td>\n",
       "      <td>3.2</td>\n",
       "      <td>West</td>\n",
       "      <td>False</td>\n",
       "      <td>2013-01-06</td>\n",
       "    </tr>\n",
       "  </tbody>\n",
       "</table>\n",
       "</div>"
      ],
      "text/plain": [
       "    state  year  pop lamda_col  new_col date_range_col\n",
       "a    Ohio  2000  1.5      East     True     2013-01-01\n",
       "b    Ohio  2001  1.7      East     True     2013-01-02\n",
       "c    Ohio  2002  3.6      East     True     2013-01-03\n",
       "d  Nevada  2001  2.4      West    False     2013-01-04\n",
       "e  Nevada  2002  2.9      West    False     2013-01-05\n",
       "f  Nevada  2003  3.2      West    False     2013-01-06"
      ]
     },
     "execution_count": 318,
     "metadata": {},
     "output_type": "execute_result"
    }
   ],
   "source": [
    "df.head()\n",
    "df.tail()\n",
    "df.sample()\n",
    "df.columns\n",
    "df.info()\n",
    "df.describe()\n",
    "df.dtypes\n",
    "df.copy()\n",
    "df.isna()\n",
    "df.notna()\n",
    "df[df['state'].isna()]\n",
    "df[df['state'].notna()]\n",
    "df.fillna('value_for_nas')\n",
    "df.dropna(subset=['state'], inplace=True)\n",
    "\n",
    "df.sort_index()\n",
    "df.sort_values(by='state')\n",
    "\n",
    "\n",
    "# will return dtype that accommodates all if they are not the same\n",
    "df.to_numpy() # returns two-dimensional ndarray (no outer or inner keys) - list of lists\n",
    "\n",
    "df.rename(columns={'state':'state', 'pop':'pop'})  # chose to keep names the same\n",
    "\n",
    "\n",
    "df['date_range_col'] = pd.date_range('20130101', periods=6)\n",
    "pd.to_datetime(df['year'])  #needs to be in a different format to work correctly\n",
    "# df['year'].dt.year\n",
    "\n",
    "# using vector stuff is more efficient than apply\n",
    "# lamda and apply (probably put it somewhere else in file)\n",
    "df['lamda_col'] = df['state'].apply(lambda x: 'East' if x == 'Ohio' else ('West' if x == 'Nevada' else 'Midwest'))\n",
    "# can also pass a custom python function into apply\n",
    "# df.apply(custom_function)\n",
    "\n",
    "df"
   ]
  },
  {
   "cell_type": "markdown",
   "metadata": {},
   "source": [
    "### Grabbing and setting rows from dataframe"
   ]
  },
  {
   "cell_type": "code",
   "execution_count": 244,
   "metadata": {},
   "outputs": [
    {
     "data": {
      "text/html": [
       "<div>\n",
       "<style scoped>\n",
       "    .dataframe tbody tr th:only-of-type {\n",
       "        vertical-align: middle;\n",
       "    }\n",
       "\n",
       "    .dataframe tbody tr th {\n",
       "        vertical-align: top;\n",
       "    }\n",
       "\n",
       "    .dataframe thead th {\n",
       "        text-align: right;\n",
       "    }\n",
       "</style>\n",
       "<table border=\"1\" class=\"dataframe\">\n",
       "  <thead>\n",
       "    <tr style=\"text-align: right;\">\n",
       "      <th></th>\n",
       "      <th>state</th>\n",
       "    </tr>\n",
       "  </thead>\n",
       "  <tbody>\n",
       "    <tr>\n",
       "      <th>b</th>\n",
       "      <td>Ohio</td>\n",
       "    </tr>\n",
       "    <tr>\n",
       "      <th>c</th>\n",
       "      <td>Ohio</td>\n",
       "    </tr>\n",
       "    <tr>\n",
       "      <th>d</th>\n",
       "      <td>Nevada</td>\n",
       "    </tr>\n",
       "  </tbody>\n",
       "</table>\n",
       "</div>"
      ],
      "text/plain": [
       "    state\n",
       "b    Ohio\n",
       "c    Ohio\n",
       "d  Nevada"
      ]
     },
     "execution_count": 244,
     "metadata": {},
     "output_type": "execute_result"
    }
   ],
   "source": [
    "# ************************** (returns a view of the underline df, not a copy)\n",
    "\n",
    "# ********** returns Series \n",
    "\n",
    "df.loc['d']  # non_int (label based) index location\n",
    "df.loc['d', 'state']\n",
    "df.iloc[0] # int index location?\n",
    "\n",
    "df['state'][-3 :] # slice of the Series\n",
    "\n",
    "\n",
    "# ********** returns dataframe\n",
    "# df.loc[]  # shell\n",
    "# [index], [column]  # 'condition'\n",
    "\n",
    "df.loc[['d'], ['state']]\n",
    "df.loc['a':'d']  \n",
    "df.loc['a':'d', ['state']]\n",
    "df.loc[df.index[[1,2,3]], ['state']]\n",
    "\n",
    "# # *************************** copy df to not have Series changes be reflected in df\n",
    "# copy_of_series = df['state'].copy()\n",
    "\n",
    "# copy_of_series['a'] = 'Mexico'\n",
    "# copy_of_series\n",
    "# df\n",
    "\n",
    "\n",
    "# df.loc[['d'], ['state', 'pop']]  # dataframe\n",
    "# df.loc['a':'d', ['state']]  # dataframe\n",
    "# df.loc[df.index[[2,3,4]], ['state', 'pop']]  # dataframe\n",
    "# df[df['pop'].between(1,2.5)]"
   ]
  },
  {
   "cell_type": "markdown",
   "metadata": {},
   "source": [
    "### Grabbing and setting column values"
   ]
  },
  {
   "cell_type": "code",
   "execution_count": 265,
   "metadata": {},
   "outputs": [],
   "source": [
    "df['state']  # Series object\n",
    "df[['state']]  # Datraframe\n",
    "df[['state', 'pop']]  #Dataframe\n",
    " \n",
    "\n",
    "# # using numpy to add values to new column\n",
    "df['new_col'] = np.arange(6.)  \n",
    "df\n",
    "\n",
    "# np.where is kind of like a ternary\n",
    "df['new_col'] = np.where(df['state'] == 'Ohio', True, False)\n",
    "df\n",
    "\n",
    "# # adding column using a Series and index (rows to place data) ~ defaults to first rows if not declare\n",
    "new_column = pd.Series([True, True, False], index=['a', 'b', 'c'])\n",
    "df['new_col'] = new_column\n",
    "df\n",
    "\n",
    "\n",
    "# # add **boolean** value to column based on condition of another column\n",
    "df['conditional_based_value'] = df['state'] == 'Ohio'\n",
    "df\n",
    "\n",
    "# fill na with computed value\n",
    "df['year'].fillna(df['year'].mean())\n",
    "\n",
    "# fill nan with value based on the values above and below the nan\n",
    "df['year'].interpolate()\n",
    "\n",
    "del df['new_col']\n",
    "del df['conditional_based_value']\n",
    "\n"
   ]
  },
  {
   "cell_type": "markdown",
   "metadata": {},
   "source": [
    "Copy dataframe when you don't want changes to affect original df"
   ]
  },
  {
   "cell_type": "code",
   "execution_count": null,
   "metadata": {},
   "outputs": [],
   "source": [
    "new_df = df.copy()"
   ]
  },
  {
   "cell_type": "markdown",
   "metadata": {},
   "source": [
    "Resetting df to what you want the changes to be is 'better' than inplace = True\n",
    "\n",
    "stated at the beginning of the line instead of the end "
   ]
  },
  {
   "cell_type": "code",
   "execution_count": null,
   "metadata": {},
   "outputs": [],
   "source": [
    "# df = df.drop(columns=['state'])\n",
    "# df.drop(columns=['state'], inplace=True)"
   ]
  },
  {
   "cell_type": "markdown",
   "metadata": {},
   "source": [
    "Dropping / Deleting Columns"
   ]
  },
  {
   "cell_type": "code",
   "execution_count": 259,
   "metadata": {},
   "outputs": [
    {
     "data": {
      "text/html": [
       "<div>\n",
       "<style scoped>\n",
       "    .dataframe tbody tr th:only-of-type {\n",
       "        vertical-align: middle;\n",
       "    }\n",
       "\n",
       "    .dataframe tbody tr th {\n",
       "        vertical-align: top;\n",
       "    }\n",
       "\n",
       "    .dataframe thead th {\n",
       "        text-align: right;\n",
       "    }\n",
       "</style>\n",
       "<table border=\"1\" class=\"dataframe\">\n",
       "  <thead>\n",
       "    <tr style=\"text-align: right;\">\n",
       "      <th></th>\n",
       "      <th>state</th>\n",
       "      <th>year</th>\n",
       "      <th>pop</th>\n",
       "    </tr>\n",
       "  </thead>\n",
       "  <tbody>\n",
       "    <tr>\n",
       "      <th>a</th>\n",
       "      <td>Ohio</td>\n",
       "      <td>2000</td>\n",
       "      <td>1.5</td>\n",
       "    </tr>\n",
       "    <tr>\n",
       "      <th>b</th>\n",
       "      <td>Ohio</td>\n",
       "      <td>2001</td>\n",
       "      <td>1.7</td>\n",
       "    </tr>\n",
       "    <tr>\n",
       "      <th>c</th>\n",
       "      <td>Ohio</td>\n",
       "      <td>2002</td>\n",
       "      <td>3.6</td>\n",
       "    </tr>\n",
       "    <tr>\n",
       "      <th>d</th>\n",
       "      <td>Nevada</td>\n",
       "      <td>2001</td>\n",
       "      <td>2.4</td>\n",
       "    </tr>\n",
       "    <tr>\n",
       "      <th>e</th>\n",
       "      <td>Nevada</td>\n",
       "      <td>2002</td>\n",
       "      <td>2.9</td>\n",
       "    </tr>\n",
       "    <tr>\n",
       "      <th>f</th>\n",
       "      <td>Nevada</td>\n",
       "      <td>2003</td>\n",
       "      <td>3.2</td>\n",
       "    </tr>\n",
       "  </tbody>\n",
       "</table>\n",
       "</div>"
      ],
      "text/plain": [
       "    state  year  pop\n",
       "a    Ohio  2000  1.5\n",
       "b    Ohio  2001  1.7\n",
       "c    Ohio  2002  3.6\n",
       "d  Nevada  2001  2.4\n",
       "e  Nevada  2002  2.9\n",
       "f  Nevada  2003  3.2"
      ]
     },
     "execution_count": 259,
     "metadata": {},
     "output_type": "execute_result"
    }
   ],
   "source": [
    "# deleting columns ~ will throw error if column does not exist\n",
    "# del df['new_col']\n",
    "\n",
    "\n",
    "# df.drop(columns=['state'])  # does not change orig df\n",
    "# df.drop(columns=['state'], inplace=True)  # changes orig df\n",
    "\n",
    "df"
   ]
  },
  {
   "cell_type": "markdown",
   "metadata": {},
   "source": [
    "## Filtering"
   ]
  },
  {
   "cell_type": "code",
   "execution_count": null,
   "metadata": {},
   "outputs": [],
   "source": [
    "# .query()\n",
    "# whole query wrap in single quotes\n",
    "# columns with spaces wrap in backticks\n",
    "# string with double quotes\n",
    "# variables @\n",
    "# can use &, and, |, or  \n",
    "# &, | have precedence over and, or **just use &, | **\n",
    "\n",
    "# ----------------- working examples -----------------------\n",
    "es = \"Espresso\"\n",
    "# coffee.query('`Coffee Type` == \"Espresso\"')\n",
    "# coffee.query('`Coffee Type` == @es')\n",
    "# coffee.query('`Units Sold` == 25')\n",
    "coffee.query('`Coffee Type` == \"Espresso\" | Day == \"Tuesday\"')\n",
    "\n",
    "# coffee[coffee[\"Units Sold\"] == 25]\n",
    "\n",
    "\n",
    "# insights\n",
    "# It looks like you can run any Series methods with .query()\n",
    "# "
   ]
  },
  {
   "cell_type": "markdown",
   "metadata": {},
   "source": [
    "## Reshaping Dateframes"
   ]
  },
  {
   "cell_type": "code",
   "execution_count": 324,
   "metadata": {},
   "outputs": [
    {
     "data": {
      "text/html": [
       "<div>\n",
       "<style scoped>\n",
       "    .dataframe tbody tr th:only-of-type {\n",
       "        vertical-align: middle;\n",
       "    }\n",
       "\n",
       "    .dataframe tbody tr th {\n",
       "        vertical-align: top;\n",
       "    }\n",
       "\n",
       "    .dataframe thead th {\n",
       "        text-align: right;\n",
       "    }\n",
       "</style>\n",
       "<table border=\"1\" class=\"dataframe\">\n",
       "  <thead>\n",
       "    <tr style=\"text-align: right;\">\n",
       "      <th></th>\n",
       "      <th>DepartmentID</th>\n",
       "      <th>DepartmentName</th>\n",
       "      <th>Location</th>\n",
       "    </tr>\n",
       "  </thead>\n",
       "  <tbody>\n",
       "    <tr>\n",
       "      <th>0</th>\n",
       "      <td>101</td>\n",
       "      <td>HR</td>\n",
       "      <td>New York</td>\n",
       "    </tr>\n",
       "    <tr>\n",
       "      <th>1</th>\n",
       "      <td>102</td>\n",
       "      <td>Engineering</td>\n",
       "      <td>San Francisco</td>\n",
       "    </tr>\n",
       "    <tr>\n",
       "      <th>2</th>\n",
       "      <td>103</td>\n",
       "      <td>Sales</td>\n",
       "      <td>Chicago</td>\n",
       "    </tr>\n",
       "    <tr>\n",
       "      <th>3</th>\n",
       "      <td>105</td>\n",
       "      <td>Marketing</td>\n",
       "      <td>Boston</td>\n",
       "    </tr>\n",
       "  </tbody>\n",
       "</table>\n",
       "</div>"
      ],
      "text/plain": [
       "   DepartmentID DepartmentName       Location\n",
       "0           101             HR       New York\n",
       "1           102    Engineering  San Francisco\n",
       "2           103          Sales        Chicago\n",
       "3           105      Marketing         Boston"
      ]
     },
     "execution_count": 324,
     "metadata": {},
     "output_type": "execute_result"
    }
   ],
   "source": [
    "# Creating the mock datasets for merges\n",
    "employees = pd.DataFrame({\n",
    "    'EmployeeID': [1, 2, 3, 4, 5, 6],\n",
    "    'Name': ['Alice', 'Bob', 'Charlie', 'David', 'Eve', 'Frank'],\n",
    "    'DepartmentID': [101, 102, 101, 103, 104, None],\n",
    "    'Salary': [70000, 80000, 60000, 90000, 75000, 65000]\n",
    "})\n",
    "\n",
    "departments = pd.DataFrame({\n",
    "    'DepartmentID': [101, 102, 103, 105],\n",
    "    'DepartmentName': ['HR', 'Engineering', 'Sales', 'Marketing'],\n",
    "    'Location': ['New York', 'San Francisco', 'Chicago', 'Boston']\n",
    "})\n",
    "\n",
    "employees\n",
    "departments"
   ]
  },
  {
   "cell_type": "markdown",
   "metadata": {},
   "source": [
    "Transposing"
   ]
  },
  {
   "cell_type": "code",
   "execution_count": null,
   "metadata": {},
   "outputs": [],
   "source": [
    "# Transposing (swaps rows and columns) ~ WARN discards col dtypes if not all same\n",
    "# df.T\n",
    "df.transpose(copy=True)  # default is false "
   ]
  },
  {
   "cell_type": "markdown",
   "metadata": {},
   "source": [
    "Merge"
   ]
  },
  {
   "cell_type": "code",
   "execution_count": 321,
   "metadata": {},
   "outputs": [
    {
     "data": {
      "text/html": [
       "<div>\n",
       "<style scoped>\n",
       "    .dataframe tbody tr th:only-of-type {\n",
       "        vertical-align: middle;\n",
       "    }\n",
       "\n",
       "    .dataframe tbody tr th {\n",
       "        vertical-align: top;\n",
       "    }\n",
       "\n",
       "    .dataframe thead th {\n",
       "        text-align: right;\n",
       "    }\n",
       "</style>\n",
       "<table border=\"1\" class=\"dataframe\">\n",
       "  <thead>\n",
       "    <tr style=\"text-align: right;\">\n",
       "      <th></th>\n",
       "      <th>EmployeeID</th>\n",
       "      <th>Name</th>\n",
       "      <th>DepartmentID</th>\n",
       "      <th>Salary</th>\n",
       "      <th>DepartmentName</th>\n",
       "      <th>Location</th>\n",
       "    </tr>\n",
       "  </thead>\n",
       "  <tbody>\n",
       "    <tr>\n",
       "      <th>0</th>\n",
       "      <td>1</td>\n",
       "      <td>Alice</td>\n",
       "      <td>101.0</td>\n",
       "      <td>70000</td>\n",
       "      <td>HR</td>\n",
       "      <td>New York</td>\n",
       "    </tr>\n",
       "    <tr>\n",
       "      <th>1</th>\n",
       "      <td>2</td>\n",
       "      <td>Bob</td>\n",
       "      <td>102.0</td>\n",
       "      <td>80000</td>\n",
       "      <td>Engineering</td>\n",
       "      <td>San Francisco</td>\n",
       "    </tr>\n",
       "    <tr>\n",
       "      <th>2</th>\n",
       "      <td>3</td>\n",
       "      <td>Charlie</td>\n",
       "      <td>101.0</td>\n",
       "      <td>60000</td>\n",
       "      <td>HR</td>\n",
       "      <td>New York</td>\n",
       "    </tr>\n",
       "    <tr>\n",
       "      <th>3</th>\n",
       "      <td>4</td>\n",
       "      <td>David</td>\n",
       "      <td>103.0</td>\n",
       "      <td>90000</td>\n",
       "      <td>Sales</td>\n",
       "      <td>Chicago</td>\n",
       "    </tr>\n",
       "  </tbody>\n",
       "</table>\n",
       "</div>"
      ],
      "text/plain": [
       "   EmployeeID     Name  DepartmentID  Salary DepartmentName       Location\n",
       "0           1    Alice         101.0   70000             HR       New York\n",
       "1           2      Bob         102.0   80000    Engineering  San Francisco\n",
       "2           3  Charlie         101.0   60000             HR       New York\n",
       "3           4    David         103.0   90000          Sales        Chicago"
      ]
     },
     "execution_count": 321,
     "metadata": {},
     "output_type": "execute_result"
    }
   ],
   "source": [
    "merged_df = employees.merge(departments, left_on='DepartmentID', right_on='DepartmentID', how='inner')\n",
    "merged_df"
   ]
  },
  {
   "cell_type": "markdown",
   "metadata": {},
   "source": [
    "Join"
   ]
  },
  {
   "cell_type": "code",
   "execution_count": null,
   "metadata": {},
   "outputs": [],
   "source": [
    "# Join (default merges my index), on='column_name only uses the left table and still index for right\n",
    "# join_df = employees.join(departments, how='inner', on='DepartmentID') # error b/c no match\n",
    "# join_df\n",
    "join_df = employees.join(departments.set_index('DepartmentID'), on='DepartmentID', how='inner')\n",
    "join_df"
   ]
  },
  {
   "cell_type": "markdown",
   "metadata": {},
   "source": [
    "Concat"
   ]
  },
  {
   "cell_type": "code",
   "execution_count": null,
   "metadata": {},
   "outputs": [],
   "source": [
    "# ************************** concat (pasting on bottom or side by side... not matching columns at all) \n",
    "# (tables should have the same column names to prevent NaNs, keeps index of both by default)\n",
    "concat_df = pd.concat([employees, departments])  # rows on rows\n",
    "concat_df = pd.concat([employees, departments], axis=1)  # cols on cols\n",
    "concat_df\n"
   ]
  },
  {
   "cell_type": "code",
   "execution_count": 313,
   "metadata": {},
   "outputs": [],
   "source": [
    "# Reshaping Dateframes | Pivot, Stack, Melt etc.\n",
    "\n",
    "reshaping_df = pd.DataFrame({'foo': ['one', 'one', 'one', 'two', 'two',\n",
    "                           'two'],\n",
    "                   'bar': ['A', 'B', 'C', 'A', 'B', 'C'],\n",
    "                   'baz': [1, 2, 3, 4, 5, 6],\n",
    "                   'zoo': ['x', 'y', 'z', 'q', 'w', 't']})"
   ]
  },
  {
   "cell_type": "markdown",
   "metadata": {},
   "source": [
    "Pivot"
   ]
  },
  {
   "cell_type": "code",
   "execution_count": 314,
   "metadata": {},
   "outputs": [
    {
     "data": {
      "text/html": [
       "<div>\n",
       "<style scoped>\n",
       "    .dataframe tbody tr th:only-of-type {\n",
       "        vertical-align: middle;\n",
       "    }\n",
       "\n",
       "    .dataframe tbody tr th {\n",
       "        vertical-align: top;\n",
       "    }\n",
       "\n",
       "    .dataframe thead th {\n",
       "        text-align: right;\n",
       "    }\n",
       "</style>\n",
       "<table border=\"1\" class=\"dataframe\">\n",
       "  <thead>\n",
       "    <tr style=\"text-align: right;\">\n",
       "      <th>bar</th>\n",
       "      <th>A</th>\n",
       "      <th>B</th>\n",
       "      <th>C</th>\n",
       "    </tr>\n",
       "    <tr>\n",
       "      <th>foo</th>\n",
       "      <th></th>\n",
       "      <th></th>\n",
       "      <th></th>\n",
       "    </tr>\n",
       "  </thead>\n",
       "  <tbody>\n",
       "    <tr>\n",
       "      <th>one</th>\n",
       "      <td>x</td>\n",
       "      <td>y</td>\n",
       "      <td>z</td>\n",
       "    </tr>\n",
       "    <tr>\n",
       "      <th>two</th>\n",
       "      <td>q</td>\n",
       "      <td>w</td>\n",
       "      <td>t</td>\n",
       "    </tr>\n",
       "  </tbody>\n",
       "</table>\n",
       "</div>"
      ],
      "text/plain": [
       "bar  A  B  C\n",
       "foo         \n",
       "one  x  y  z\n",
       "two  q  w  t"
      ]
     },
     "execution_count": 314,
     "metadata": {},
     "output_type": "execute_result"
    }
   ],
   "source": [
    "# pivot: only one index or col. Can not handle duplicates values (throws error)\n",
    "reshaping_df.pivot(index='foo', columns='bar', values='zoo')\n",
    "\n",
    "# ********** notes form other dataframe\n",
    "# allows to grab things like this\n",
    "# pivot.loc[\"Monday\", \"Latte\"]  \n",
    "\n",
    "# grab sum of the columns\n",
    "# pivot.sum()\n",
    "\n",
    "# grab sum on the row (day as the index)\n",
    "# pivot.sum(axis=1)"
   ]
  },
  {
   "cell_type": "markdown",
   "metadata": {},
   "source": [
    "Pivot Table"
   ]
  },
  {
   "cell_type": "code",
   "execution_count": null,
   "metadata": {},
   "outputs": [],
   "source": [
    "# pivot_tables: allow for more than one index or column. Can handle duplicate values (combines duplicate values to make one value (defaults numpy mean function))\n",
    "reshaping_df.pivot_table(index=['foo', 'bar'], columns=['zoo'], values='baz')"
   ]
  },
  {
   "cell_type": "markdown",
   "metadata": {},
   "source": [
    "Stack / Unstack"
   ]
  },
  {
   "cell_type": "code",
   "execution_count": null,
   "metadata": {},
   "outputs": [],
   "source": [
    "# stack: stacks multiple cols in one to create a redundant index\n",
    "\n",
    "tuples = list(\n",
    "    zip(\n",
    "        *[\n",
    "            [\"bar\", \"bar\", \"baz\", \"baz\", \"foo\", \"foo\", \"qux\", \"qux\"],\n",
    "            [\"one\", \"two\", \"one\", \"two\", \"one\", \"two\", \"one\", \"two\"],\n",
    "        ]\n",
    "    )\n",
    ")\n",
    "index = pd.MultiIndex.from_tuples(tuples, names=[\"first\", \"second\"])\n",
    "df = pd.DataFrame(np.random.randn(8, 2), index=index, columns=[\"A\", \"B\"])\n",
    "stacking_df = df[:4]\n",
    "\n",
    "\n",
    "stacking_df\n",
    "# _____________________________________________________________________________\n",
    "\n",
    "\n",
    "# stack cols A and B\n",
    "stacked_df = pd.DataFrame(stacking_df.stack())\n",
    "stacked_df\n",
    "\n",
    "# unstack cols A and B\n",
    "unstacked_df = stacked_df.unstack()  # can specify index name '' or position []\n",
    "unstacked_df"
   ]
  },
  {
   "cell_type": "markdown",
   "metadata": {},
   "source": [
    "Melt"
   ]
  },
  {
   "cell_type": "code",
   "execution_count": null,
   "metadata": {},
   "outputs": [],
   "source": [
    "# melt function (gives each value_var on a different row)\n",
    "# Unpivot a DataFrame from wide to long format, optionally leaving identifiers set.\n",
    "melt_df = pd.melt(reshaping_df, id_vars='foo', value_vars=['zoo', 'baz'])\n",
    "melt_df\n",
    "\n",
    "# checking an instance of id_vars\n",
    "# melt_df[]  # shell\n",
    "# melt_df['foo'] == 'one'  # condition\n",
    "melt_df[melt_df['foo'] == 'one']"
   ]
  },
  {
   "cell_type": "markdown",
   "metadata": {},
   "source": [
    "Crosstab"
   ]
  },
  {
   "cell_type": "code",
   "execution_count": null,
   "metadata": {},
   "outputs": [],
   "source": [
    "# cross tab table and how many times they occur together\n",
    "# crosstab of \"value counts of one column that appeared in another\n",
    "pd.crosstab(reshaping_df['foo'], reshaping_df['bar'])"
   ]
  },
  {
   "cell_type": "markdown",
   "metadata": {},
   "source": [
    "Explode"
   ]
  },
  {
   "cell_type": "code",
   "execution_count": null,
   "metadata": {},
   "outputs": [],
   "source": [
    "# explode = breaks list values in a column into their own row per list item\n",
    "keys = [\"panda1\", \"panda2\", \"panda3\"]\n",
    "\n",
    "values = [[\"eats\", \"shoots\"], [\"shoots\", \"leaves\"], [\"eats\", \"leaves\"]]\n",
    "\n",
    "df = pd.DataFrame({\"keys\": keys, \"values\": values})\n",
    "df\n",
    "\n",
    "# two different ways of using it\n",
    "df[\"values\"].explode()  # returns Series object\n",
    "df.explode('values')  # returns df with each list item on their own row"
   ]
  },
  {
   "cell_type": "markdown",
   "metadata": {},
   "source": [
    "## Aggregating data"
   ]
  },
  {
   "cell_type": "code",
   "execution_count": 292,
   "metadata": {},
   "outputs": [
    {
     "data": {
      "text/plain": [
       "np.float64(2.5500000000000003)"
      ]
     },
     "execution_count": 292,
     "metadata": {},
     "output_type": "execute_result"
    }
   ],
   "source": [
    "df['state'].value_counts()\n",
    "df['pop'].sum()\n",
    "df['pop'].mean()\n",
    "\n",
    "# .groupby.sum()\n",
    "# .groupby.agg({})"
   ]
  },
  {
   "cell_type": "markdown",
   "metadata": {},
   "source": [
    "## String Manipulation"
   ]
  },
  {
   "cell_type": "markdown",
   "metadata": {},
   "source": [
    "Case"
   ]
  },
  {
   "cell_type": "code",
   "execution_count": null,
   "metadata": {},
   "outputs": [],
   "source": [
    "# # case manipulation\n",
    "# store_df['Store_Name'].str.lower()  # all\n",
    "store_df['Store_Name'].str.upper()  # all\n",
    "# store_df['Store_Name'].str.title()  # first letter all words\n",
    "# store_df['Store_Name'].str.capitalize()  # first letter first word\n",
    "# store_df['Store_Name'].str.swapcase()  # converts fist letter to upper and remaining to lowercase\n",
    "# store_df['Store_Name'].str.casefold()  # converts whole word uppercase to lowercase vice versa\n",
    "\n",
    "\n",
    "# changing dataframe column  \n",
    "store_df['Store_Name'] = store_df['Store_Name'].str.upper()\n",
    "# store_df"
   ]
  },
  {
   "cell_type": "markdown",
   "metadata": {},
   "source": [
    "Concat"
   ]
  },
  {
   "cell_type": "code",
   "execution_count": null,
   "metadata": {},
   "outputs": [],
   "source": [
    "# concat\n",
    "\n",
    "# + concat\n",
    "store_df['Store_Name'] + \" \" + store_df['Product']\n",
    "\n",
    "# method concat\n",
    "store_df['Store_Name'].str.cat(store_df['Product'], sep= \" \")\n",
    "\n",
    "# # changing dataframe column\n",
    "# store_df['Store_Name'] = store_df['Store_Name'].str.cat(store_df['Product'], sep= \" \")\n",
    "\n",
    "# adding column of concat strings\n",
    "store_df['Store_Name_Product_concat'] = store_df['Store_Name'].str.cat(store_df['Product'], sep= \" \")\n",
    "\n",
    "# c"
   ]
  },
  {
   "cell_type": "markdown",
   "metadata": {},
   "source": [
    "Split"
   ]
  },
  {
   "cell_type": "code",
   "execution_count": null,
   "metadata": {},
   "outputs": [],
   "source": [
    "# split strings\n",
    "\n",
    "store_df['Location'].str.split(pat=\",\")  # Series\n",
    "\n",
    "# returns split in separate columns in a df\n",
    "store_df['Location'].str.split(pat=\",\", expand=True)  # df \n",
    "\n",
    "# create new columns with splitted values\n",
    "store_df[[\"city\", \"state\"]] = store_df[\"Location\"].str.split(pat=\",\", expand=True)\n",
    "\n",
    "store_df"
   ]
  },
  {
   "cell_type": "markdown",
   "metadata": {},
   "source": [
    "Indexing on strings"
   ]
  },
  {
   "cell_type": "code",
   "execution_count": null,
   "metadata": {},
   "outputs": [],
   "source": [
    "store_df[\"Store_Name\"].str[0]  # first letter in string\n",
    "\n",
    "store_df[\"Store_Name\"].str[-1]  # last letter in string\n",
    "\n",
    "store_df[\"Store_Name\"].str[:3]  # slice first 3 letters in string\n",
    "\n",
    "store_df[\"Store_Name\"].str[1:3]  # slice off some values at beginning and end of string"
   ]
  },
  {
   "cell_type": "markdown",
   "metadata": {},
   "source": [
    "Replace"
   ]
  },
  {
   "cell_type": "code",
   "execution_count": null,
   "metadata": {},
   "outputs": [],
   "source": [
    "store_df[\"city\"].str.replace(\"Chicago\", \"Chi Town\")  # replace word\n",
    "\n",
    "store_df[\"Location\"].str.replace(\",\", \"\", regex=False)  # removes the ,\n",
    "\n",
    "store_df[\"Location\"].str.replace(\",\", \"\", regex=False).str.replace(\"X\", \"N\", regex=False)  # chaining"
   ]
  },
  {
   "cell_type": "markdown",
   "metadata": {},
   "source": [
    "Count"
   ]
  },
  {
   "cell_type": "code",
   "execution_count": null,
   "metadata": {},
   "outputs": [],
   "source": [
    "store_df[\"Product\"].str.len()  # counts letters in whole string\n",
    "\n",
    "store_df[\"Product\"].str.count(\"a\")  # counts instances of letter\n",
    "\n",
    "store_df[\"Product\"].str.count(\"Toast\")  # case sensitive\n",
    "\n",
    "# store_df"
   ]
  },
  {
   "cell_type": "markdown",
   "metadata": {},
   "source": [
    "Search / Filter"
   ]
  },
  {
   "cell_type": "code",
   "execution_count": null,
   "metadata": {},
   "outputs": [],
   "source": [
    "store_df[\"Product\"].str.contains(\"Toast\")  # returns boolean ... case sensitive\n",
    "\n",
    "store_df[store_df[\"Product\"].str.contains(\"Toast\")]  # use to filter and return df\n",
    "\n",
    "store_df[store_df[\"Product\"].str.contains(\"Toast\") == False]  # filter for not Toast"
   ]
  },
  {
   "cell_type": "markdown",
   "metadata": {},
   "source": [
    "Regex"
   ]
  },
  {
   "cell_type": "code",
   "execution_count": null,
   "metadata": {},
   "outputs": [],
   "source": [
    "# non pandas way to search \n",
    "cities = store_df[\"city\"].tolist()  # Series converted to list \n",
    "dallas = []\n",
    "for city in cities:\n",
    "    if \"Dallas\" in city:\n",
    "        dallas.append(city)\n",
    "print(dallas)\n",
    "\n",
    "\n",
    "# pandas str.contains using df.loc[]\n",
    "store_df.loc[store_df[\"city\"].str.contains(\"Dallas\")]  # Dallas\n",
    "store_df.loc[~store_df[\"city\"].str.contains(\"Dallas\")]   # not Dallas\n",
    "\n",
    "# w/o Regex - multiple conditions (Toast Bread)\n",
    "store_df.loc[(store_df[\"Product\"].str.contains(\"Toast\")) | (store_df[\"Product\"].str.contains(\"Bread\"))]\n",
    "\n",
    "\n",
    "# Regex\n",
    "store_df.loc[store_df[\"Product\"].str.contains('toast|bread', case=False, regex=True)]  # case insensitive using case=False\n",
    "\n",
    "\n",
    "# pandas methods that use regex=True\n",
    "# str.contains()  # string method\n",
    "# .replace()  # series method"
   ]
  },
  {
   "cell_type": "markdown",
   "metadata": {},
   "source": [
    "Convert date to str for regex"
   ]
  },
  {
   "cell_type": "code",
   "execution_count": null,
   "metadata": {},
   "outputs": [],
   "source": [
    "store_df[\"Date\"].dt.strftime(\"%Y-%m-%d\") # (such as “%H:%M”, “%I:%M:%S %p”) (e.g. “%Y-%m-%d”)\n",
    "\n",
    "store_df.loc[store_df[\"Date\"].dt.strftime(\"%Y-%m-%d\").str.contains('...-..-07', regex=True)]  #\n",
    "\n",
    "# store_df.dtypes"
   ]
  },
  {
   "cell_type": "markdown",
   "metadata": {},
   "source": [
    "None regex for dates"
   ]
  },
  {
   "cell_type": "code",
   "execution_count": null,
   "metadata": {},
   "outputs": [],
   "source": [
    "store_df.loc[(store_df['Date'] >= '2024-01-02') & (store_df['Date'] < '2024-01-04')]   #.loc\n",
    "\n",
    "store_df.loc[store_df['Date'].dt.weekday == 2]  # dt.weekday (tuesday)\n",
    "\n",
    "store_df.query('Date >= \"2024-01-01\" & Date < \"2024-01-05\"')  # .query\n",
    "\n",
    "store_df.loc[store_df['Date'].dt.strftime('%Y-%m-%d').between('2024-01-02', '2024-01-05'), ['Store_ID']]  # .between\n",
    "\n",
    "\n",
    "# some interesting methods for dates - look at docs for more\n",
    "# store_df['Date'].dt.weekday == 2  # returns boolean\n",
    "# store_df['Date'].dt.weekday  # returns number of the weekday\n",
    "\n",
    "# store_df['Date'].dt.day_name()  # returns Series of day names\n",
    "# store_df['Date'].dt.month_name()  # returns Series of month names\n",
    "# store_df['Date'].dt.day_of_year # returns Series of day of the year (Julean?)\n",
    "# store_df['Date'].dt. # monthstart, quarterend, etc."
   ]
  },
  {
   "cell_type": "markdown",
   "metadata": {},
   "source": [
    "## Using Numpy"
   ]
  },
  {
   "cell_type": "code",
   "execution_count": 311,
   "metadata": {},
   "outputs": [],
   "source": [
    "np.arange(6.)\n",
    "np.nan\n",
    "\n",
    "np.random.seed(42)\n",
    "np.random.sample(10)\n",
    "np.random.choice([100, 101, 200, 201])\n",
    "np.random.choice([100, 101, 200, 201], size=10)\n",
    "np.random.randint(1, 10)\n",
    "np.random.randint(1, 10, size=10)\n",
    "np.random.uniform(1, 10)\n",
    "np.random.uniform(1, 10, size=10)\n",
    "\n",
    "\n",
    "# ternary like\n",
    "df['new_col'] = np.where(df['state'] == 'Ohio', True, False)\n",
    "\n",
    "\n",
    "\n"
   ]
  },
  {
   "cell_type": "markdown",
   "metadata": {},
   "source": [
    "Series methods"
   ]
  },
  {
   "cell_type": "code",
   "execution_count": 257,
   "metadata": {},
   "outputs": [
    {
     "data": {
      "text/plain": [
       "<pandas.core.strings.accessor.StringMethods at 0x7e6f7135f310>"
      ]
     },
     "execution_count": 257,
     "metadata": {},
     "output_type": "execute_result"
    }
   ],
   "source": [
    "df['state'].to_list()  #type list\n",
    "df['state'].str\n"
   ]
  },
  {
   "cell_type": "markdown",
   "metadata": {},
   "source": [
    "Deep deeper"
   ]
  },
  {
   "cell_type": "code",
   "execution_count": 250,
   "metadata": {},
   "outputs": [],
   "source": [
    "# idexing object {test.ipynb file}\n"
   ]
  },
  {
   "cell_type": "markdown",
   "metadata": {},
   "source": [
    "TODO"
   ]
  },
  {
   "cell_type": "code",
   "execution_count": null,
   "metadata": {},
   "outputs": [],
   "source": [
    "# .shift()\n",
    "# .rank()\n",
    "# .rolling()\n",
    "# .cumsum()\n",
    "# resetting index\n",
    "# reading files\n",
    "# value in array\n",
    "# groupby and agg\n",
    "# subsetting after query / filter\n"
   ]
  }
 ],
 "metadata": {
  "kernelspec": {
   "display_name": ".venv",
   "language": "python",
   "name": "python3"
  },
  "language_info": {
   "codemirror_mode": {
    "name": "ipython",
    "version": 3
   },
   "file_extension": ".py",
   "mimetype": "text/x-python",
   "name": "python",
   "nbconvert_exporter": "python",
   "pygments_lexer": "ipython3",
   "version": "3.10.12"
  }
 },
 "nbformat": 4,
 "nbformat_minor": 2
}
